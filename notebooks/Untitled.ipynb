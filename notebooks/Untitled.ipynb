{
 "cells": [
  {
   "cell_type": "code",
   "execution_count": 2,
   "id": "8bc09d49",
   "metadata": {},
   "outputs": [
    {
     "name": "stdout",
     "output_type": "stream",
     "text": [
      "Final Stats: \n",
      "{'mean': 10.62, 'standard deviation': 0.6289674077406555, 'min': 10.0, 'max': 12.0}\n"
     ]
    }
   ],
   "source": [
    "import gym\n",
    "import numpy as np\n",
    "import time\n",
    "\n",
    "env = gym.make(\"CartPole-v1\",render_mode=\"rgb_array\")\n",
    "\n",
    "\n",
    "def basic_policy(PoleAngle):\n",
    "    if PoleAngle < 0:  # falling right\n",
    "        return 0\n",
    "    else:\n",
    "        return 1  # move left\n",
    "\n",
    "\n",
    "total_rewards = list()\n",
    "N_episodes = 50\n",
    "N_steps = 200\n",
    "\n",
    "for episode in range(N_episodes):\n",
    "    rewards = 0\n",
    "    # observation : [CartPosition, CartVelocity, PoleAngle, PoleAngularVelocity]\n",
    "    observations = env.reset()[0]\n",
    "    for step in range(N_steps):\n",
    "        env.render()\n",
    "        action = basic_policy(observations[2])\n",
    "        observations = env.step(action) # output = observations, reward, done, info, _\n",
    "        time.sleep(0.001)\n",
    "        rewards += observations[1]\n",
    "        if observations[2]:\n",
    "            break\n",
    "    total_rewards.append(rewards)\n",
    "\n",
    "stats = {\n",
    "    \"mean\": np.mean(total_rewards),\n",
    "    \"standard deviation\": np.std(total_rewards),\n",
    "    \"min\": np.min(total_rewards),\n",
    "    \"max\": np.max(total_rewards)\n",
    "}\n",
    "\n",
    "print(f\"Final Stats: \\n{stats}\")"
   ]
  },
  {
   "cell_type": "code",
   "execution_count": null,
   "id": "6cc0f71e",
   "metadata": {},
   "outputs": [],
   "source": []
  }
 ],
 "metadata": {
  "kernelspec": {
   "display_name": "Python 3 (ipykernel)",
   "language": "python",
   "name": "python3"
  },
  "language_info": {
   "codemirror_mode": {
    "name": "ipython",
    "version": 3
   },
   "file_extension": ".py",
   "mimetype": "text/x-python",
   "name": "python",
   "nbconvert_exporter": "python",
   "pygments_lexer": "ipython3",
   "version": "3.8.16"
  }
 },
 "nbformat": 4,
 "nbformat_minor": 5
}
